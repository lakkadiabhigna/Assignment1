{
 "cells": [
  {
   "cell_type": "code",
   "execution_count": 2,
   "id": "06ef06b6-7545-4bcd-8ae7-99caf5d2c36c",
   "metadata": {},
   "outputs": [
    {
     "name": "stdout",
     "output_type": "stream",
     "text": [
      "26\n"
     ]
    }
   ],
   "source": [
    "### Lists:\n",
    "#1. Write a Python program to sum all the items in a list.\n",
    "l1 = [1,2,5,6,12]\n",
    "sum = 0\n",
    "for i in l1:\n",
    "    sum=sum+i\n",
    "print(sum)"
   ]
  },
  {
   "cell_type": "code",
   "execution_count": 8,
   "id": "3ca4864f-257b-47a3-b612-8acf50a9240b",
   "metadata": {},
   "outputs": [
    {
     "name": "stdin",
     "output_type": "stream",
     "text": [
      " 4\n",
      " 1\n",
      " 3\n",
      " 2\n",
      " 56\n"
     ]
    },
    {
     "name": "stdout",
     "output_type": "stream",
     "text": [
      "[2, 56]\n"
     ]
    }
   ],
   "source": [
    "#2. Create a function that takes a list of numbers as input and returns a new list with only the even numbers from the original list\n",
    "def num():\n",
    "    n = int(input())\n",
    "    l=[]\n",
    "    for i in range(n):\n",
    "        l.append(int(input()))\n",
    "    l2=[]\n",
    "    for i in l:\n",
    "        if(i%2==0):\n",
    "            l2.append(i)\n",
    "    return l2\n",
    "print(num())\n",
    "        "
   ]
  },
  {
   "cell_type": "code",
   "execution_count": 9,
   "id": "32d0e233-cd56-424d-86be-cf721878a3c9",
   "metadata": {},
   "outputs": [
    {
     "name": "stdout",
     "output_type": "stream",
     "text": [
      "[1, 5, 6, 3, 2, 8]\n"
     ]
    }
   ],
   "source": [
    "#3. Write a Python program to remove duplicates from a list.\n",
    "l = [1,2,3,3,5,6,3,2,8]\n",
    "for i in l:\n",
    "    if l.count(i)>1:\n",
    "        l.remove(i)\n",
    "print(l)"
   ]
  },
  {
   "cell_type": "code",
   "execution_count": 10,
   "id": "24f3479d-5a28-497b-ac84-c49c10ee06c2",
   "metadata": {},
   "outputs": [
    {
     "name": "stdout",
     "output_type": "stream",
     "text": [
      "2nd max element is 7\n"
     ]
    }
   ],
   "source": [
    "#4. Implement a function to find the second largest number in a list.\n",
    "def SecMax(l):\n",
    "    l.sort()\n",
    "    print(f\"2nd max element is {l[-2]}\")\n",
    "\n",
    "l = [2,6,1,7,9,5]\n",
    "SecMax(l)"
   ]
  },
  {
   "cell_type": "code",
   "execution_count": 11,
   "id": "e4678c72-37ee-4b51-aed2-8f487f7384a1",
   "metadata": {},
   "outputs": [
    {
     "name": "stdout",
     "output_type": "stream",
     "text": [
      "[1, 4, 5, 3, 2]\n"
     ]
    }
   ],
   "source": [
    "#5. Write a Python program to shuffle and print a list.\n",
    "import random\n",
    "l = [1,2,3,4,5]\n",
    "random.shuffle(l)\n",
    "print(l)"
   ]
  },
  {
   "cell_type": "code",
   "execution_count": 12,
   "id": "0949bb3c-4aad-433f-9325-8f84f07c9671",
   "metadata": {},
   "outputs": [
    {
     "name": "stdout",
     "output_type": "stream",
     "text": [
      "The reversed tuple is:  (10, True, 23.4, 'Java', 'Python', 2, 'hello')\n"
     ]
    }
   ],
   "source": [
    "### Tuples:\n",
    "#1. Write a Python program to reverse a tuple.\n",
    "tuple1 = ('hello', 2, 'Python', 'Java', 23.4, True, 10)  \n",
    "tuple1 = tuple1[::-1]   \n",
    "print(\"The reversed tuple is: \", tuple1)"
   ]
  },
  {
   "cell_type": "code",
   "execution_count": 16,
   "id": "a607d706-5106-4c79-843d-b0ca75244e77",
   "metadata": {},
   "outputs": [
    {
     "name": "stdout",
     "output_type": "stream",
     "text": [
      "(3, 4)\n"
     ]
    }
   ],
   "source": [
    "#2. Create a function that takes two tuples as input and returns a new tuple containing elements that are common in both tuples.\n",
    "def common(tuple1, tuple2):\n",
    "    common = ()\n",
    "    for item in tuple1:\n",
    "        if item in tuple2 and item not in common:\n",
    "            common = common + (item,)\n",
    "    return common\n",
    "tuple1 = (1, 2, 3, 4)\n",
    "tuple2 = (3, 4, 5, 6)\n",
    "result = common(tuple1, tuple2)\n",
    "print(result)  # Output: (3, 4)\n"
   ]
  },
  {
   "cell_type": "code",
   "execution_count": 17,
   "id": "c053f87a-6d6d-4fd3-bb5d-468bd90e9392",
   "metadata": {},
   "outputs": [
    {
     "name": "stdout",
     "output_type": "stream",
     "text": [
      "goodmorningall\n"
     ]
    }
   ],
   "source": [
    "#3. Write a Python program to convert a tuple to a string.\n",
    "tuple1 = ('good','morning','all')\n",
    "string = \"\".join(tuple1)\n",
    "print(string)"
   ]
  },
  {
   "cell_type": "code",
   "execution_count": 19,
   "id": "d1b14829-6aeb-4112-93b4-d614be4fa729",
   "metadata": {},
   "outputs": [
    {
     "name": "stdout",
     "output_type": "stream",
     "text": [
      "2\n"
     ]
    }
   ],
   "source": [
    "#4. Implement a function to find the index of an element in a tuple.\n",
    "def find_index(element, tuple1):\n",
    "    if element in tuple1:\n",
    "        index = tuple1.index(element)\n",
    "        return index\n",
    "    else:\n",
    "        return -1\n",
    "tuple1 = (1, 2, 3, 4, 5)\n",
    "element = 3\n",
    "index = find_index(element, tuple1)\n",
    "print(index)  \n"
   ]
  },
  {
   "cell_type": "code",
   "execution_count": 20,
   "id": "e4c896b8-5833-4f66-9777-7f471264fa48",
   "metadata": {},
   "outputs": [
    {
     "name": "stdout",
     "output_type": "stream",
     "text": [
      "(1, 2, 3, 4, 5, 11, 22, 33, 44, 55)\n"
     ]
    }
   ],
   "source": [
    "#5. Create a program to concatenate two tuples.\n",
    "tuple1 = (1, 2, 3, 4, 5)\n",
    "tuple2 = (11, 22, 33, 44, 55)\n",
    "tuple3 = tuple1+tuple2\n",
    "print(tuple3)"
   ]
  },
  {
   "cell_type": "code",
   "execution_count": 11,
   "id": "1d3c4b5a-a751-4b37-a695-56231908bd66",
   "metadata": {},
   "outputs": [
    {
     "name": "stdout",
     "output_type": "stream",
     "text": [
      "Set of mixed data types: {89, 'Hello', 101, 'Bye'}\n"
     ]
    }
   ],
   "source": [
    "# Sets:\n",
    "#1. Write a Python program to create a se\n",
    "set1 = {'Hello', 101, 89, 'Bye'}\n",
    "print('Set of mixed data types:', set1)"
   ]
  },
  {
   "cell_type": "code",
   "execution_count": 2,
   "id": "26650b59-5fd0-4404-b7d6-e6452fbc65f2",
   "metadata": {},
   "outputs": [
    {
     "name": "stdout",
     "output_type": "stream",
     "text": [
      "{4, 5}\n"
     ]
    }
   ],
   "source": [
    "#2. Create a function that takes two sets as input and returns a new set containing elements that are common in both sets\n",
    "def intersection(set1, set2):\n",
    "    return set1.intersection(set2)\n",
    "set1 = {1, 2, 3, 4, 5}\n",
    "set2 = {4, 5, 6, 7, 8}\n",
    "result = intersection(set1, set2)\n",
    "print(result)  "
   ]
  },
  {
   "cell_type": "code",
   "execution_count": 3,
   "id": "271c54bb-18f6-4b14-a1e4-70643eb15490",
   "metadata": {},
   "outputs": [
    {
     "name": "stdout",
     "output_type": "stream",
     "text": [
      "{1, 2, 3}\n"
     ]
    }
   ],
   "source": [
    "#3. Write a Python program to find the difference between two sets.\n",
    "def difference(set1, set2):\n",
    "    return set1.difference(set2)\n",
    "set1 = {1, 2, 3, 4, 5}\n",
    "set2 = {4, 5, 6, 7, 8}\n",
    "result = difference(set1, set2)\n",
    "print(result)"
   ]
  },
  {
   "cell_type": "code",
   "execution_count": 4,
   "id": "8e5b0106-f0aa-4641-97f4-6a3fb8961708",
   "metadata": {},
   "outputs": [
    {
     "name": "stdout",
     "output_type": "stream",
     "text": [
      "True\n"
     ]
    }
   ],
   "source": [
    "#4. Implement a function to check if a set is a subset of another set.\n",
    "def is_subset(set1, set2):\n",
    "    return set1.issubset(set2)\n",
    "set1 = {1, 2, 3}\n",
    "set2 = {1, 2, 3, 4, 5}\n",
    "result = is_subset(set1, set2)\n",
    "print(result)  "
   ]
  },
  {
   "cell_type": "code",
   "execution_count": 5,
   "id": "a32279fd-8706-4e7b-aa4c-c2d98aa07a3f",
   "metadata": {},
   "outputs": [
    {
     "name": "stdout",
     "output_type": "stream",
     "text": [
      "Union: {1, 2, 3, 4, 5, 6, 7, 8}\n",
      "Intersection: {4, 5}\n",
      "Difference (set1 - set2): {1, 2, 3}\n",
      "Symmetric Difference: {1, 2, 3, 6, 7, 8}\n"
     ]
    }
   ],
   "source": [
    "#5. Create a program to perform set operations like union, intersection, difference, and symmetric difference.\n",
    "def perform_set_operations(set1, set2):\n",
    "    union_set = set1.union(set2)\n",
    "    intersection_set = set1.intersection(set2)\n",
    "    difference_set1 = set1.difference(set2)\n",
    "    symmetric_difference_set = set1.symmetric_difference(set2)\n",
    "    print(\"Union:\", union_set)\n",
    "    print(\"Intersection:\", intersection_set)\n",
    "    print(\"Difference (set1 - set2):\", difference_set1)\n",
    "    print(\"Symmetric Difference:\", symmetric_difference_set)\n",
    "set1 = {1, 2, 3, 4, 5}\n",
    "set2 = {4, 5, 6, 7, 8}\n",
    "perform_set_operations(set1, set2)"
   ]
  },
  {
   "cell_type": "code",
   "execution_count": 12,
   "id": "9972e277-9344-4577-918b-97dfcfa980ac",
   "metadata": {},
   "outputs": [
    {
     "name": "stdout",
     "output_type": "stream",
     "text": [
      "Ascending order: {'b': 1, 'd': 2, 'c': 3, 'a': 4}\n",
      "Descending order: {'a': 4, 'c': 3, 'd': 2, 'b': 1}\n"
     ]
    }
   ],
   "source": [
    "### Dictionaries:\n",
    "#1. Write a Python script to sort (ascending and descending) a dictionary by its values.\n",
    "def sort_dictionary_ascending(d):\n",
    "    sorted_items = sorted(d.items(), key=lambda x: x[1])\n",
    "    sorted_dict = dict(sorted_items)\n",
    "    return sorted_dict\n",
    "def sort_dictionary_descending(d):\n",
    "    sorted_items = sorted(d.items(), key=lambda x: x[1], reverse=True)\n",
    "    sorted_dict = dict(sorted_items)\n",
    "    return sorted_dict\n",
    "my_dict = {'a': 4, 'b': 1, 'c': 3, 'd': 2}\n",
    "sorted_asc = sort_dictionary_ascending(my_dict)\n",
    "print(\"Ascending order:\", sorted_asc)\n",
    "sorted_desc = sort_dictionary_descending(my_dict)\n",
    "print(\"Descending order:\", sorted_desc)"
   ]
  },
  {
   "cell_type": "code",
   "execution_count": 9,
   "id": "937c1ffe-4ae4-46f4-8889-04eb93f0db71",
   "metadata": {},
   "outputs": [
    {
     "name": "stdout",
     "output_type": "stream",
     "text": [
      "60\n"
     ]
    }
   ],
   "source": [
    "#2. Create a function that takes a dictionary as input and returns the sum of all its values.\n",
    "def sum_of_values(dictionary):\n",
    "    return sum(dictionary.values())\n",
    "my_dict = {'a': 10, 'b': 20, 'c': 30}\n",
    "total_sum = sum_of_values(my_dict)\n",
    "print(total_sum) "
   ]
  },
  {
   "cell_type": "code",
   "execution_count": 8,
   "id": "8a8fa595-8ed7-4d2b-b634-9b4a88246729",
   "metadata": {},
   "outputs": [
    {
     "name": "stdout",
     "output_type": "stream",
     "text": [
      "{'a': 100, 'b': 500, 'c': 700, 'd': 500}\n"
     ]
    }
   ],
   "source": [
    "#3. Write a Python program to combine two dictionary adding values for common keys.\n",
    "def combine_dictionaries(dict1, dict2):\n",
    "    combined_dict = dict1.copy() \n",
    "    for key, value in dict2.items():\n",
    "        if key in combined_dict:\n",
    "            combined_dict[key] += value \n",
    "        else:\n",
    "            combined_dict[key] = value \n",
    "    return combined_dict\n",
    "dict1 = {'a': 100, 'b': 200, 'c': 300}\n",
    "dict2 = {'b': 300, 'c': 400, 'd': 500}\n",
    "combined_dict = combine_dictionaries(dict1, dict2)\n",
    "print(combined_dict)"
   ]
  },
  {
   "cell_type": "code",
   "execution_count": 7,
   "id": "b0a54c2b-f3ee-42a8-b575-6ab597db7b40",
   "metadata": {},
   "outputs": [
    {
     "name": "stdout",
     "output_type": "stream",
     "text": [
      "True\n",
      "False\n"
     ]
    }
   ],
   "source": [
    "#4. Implement a function to check if a given key already exists in a dictionary.\n",
    "def key_exists(dictionary, key):\n",
    "    return key in dictionary\n",
    "my_dict = {'a': 111, 'b': 112, 'c': 113}\n",
    "print(key_exists(my_dict, 'b')) \n",
    "print(key_exists(my_dict, 'd'))  "
   ]
  },
  {
   "cell_type": "code",
   "execution_count": 6,
   "id": "8d274c76-7849-4532-ad7b-01443e88eb17",
   "metadata": {},
   "outputs": [
    {
     "name": "stdout",
     "output_type": "stream",
     "text": [
      "Iterating with loop:\n",
      "a : 1\n",
      "b : 2\n",
      "c : 3\n",
      "d : 4\n",
      "\n",
      "Itrating with comprehension:\n",
      "a : 1\n",
      "b : 2\n",
      "c : 3\n",
      "d : 4\n"
     ]
    }
   ],
   "source": [
    "#5. Create a program to iterate over dictionaries using loops and comprehensions, printing key-value pairs.\n",
    "\n",
    "def loop(dictionary):\n",
    "    for key, value in dictionary.items():\n",
    "        print(key, \":\", value)\n",
    "def comprehension(dictionary):\n",
    "    [print(key, \":\", value) for key, value in dictionary.items()]\n",
    "\n",
    "my_dict = {'a': 1, 'b': 2, 'c': 3, 'd': 4}\n",
    "print(\"Iterating with loop:\")\n",
    "loop(my_dict)\n",
    "print(\"\\nItrating with comprehension:\")\n",
    "comprehension(my_dict)\n"
   ]
  },
  {
   "cell_type": "code",
   "execution_count": null,
   "id": "088743d7-781d-496c-b822-88ae6ac647cf",
   "metadata": {},
   "outputs": [],
   "source": []
  }
 ],
 "metadata": {
  "kernelspec": {
   "display_name": "Python 3 (ipykernel)",
   "language": "python",
   "name": "python3"
  },
  "language_info": {
   "codemirror_mode": {
    "name": "ipython",
    "version": 3
   },
   "file_extension": ".py",
   "mimetype": "text/x-python",
   "name": "python",
   "nbconvert_exporter": "python",
   "pygments_lexer": "ipython3",
   "version": "3.11.7"
  }
 },
 "nbformat": 4,
 "nbformat_minor": 5
}
